{
 "cells": [
  {
   "cell_type": "code",
   "execution_count": null,
   "metadata": {},
   "outputs": [],
   "source": [
    "import streamlit as st #WEB DEVELOPMENT\n",
    "import pandas as pd #READ CSV, DF MANIPULATION\n",
    "import numpy as np\n",
    "import time #TO SIMULATE A REAL TIME DATA\n",
    "import plotly.express as px #INTERACTIVE CHARTS\n"
   ]
  },
  {
   "cell_type": "code",
   "execution_count": null,
   "metadata": {},
   "outputs": [],
   "source": [
    "# READ CSV FROM ONE OF OUR FOLDERS IN VISUAL STUDIO CODE\n",
    "\n",
    "#df_yf = pd.read(\"dataframe de los datos que hemos sacado de yahoo finance ya limpio\")\n"
   ]
  },
  {
   "cell_type": "code",
   "execution_count": null,
   "metadata": {},
   "outputs": [],
   "source": [
    "#CONFIGURAMOS LA PAGINA DE STREAMLIT\n",
    "\n",
    "st.page_set_config(\n",
    "    page_title = \"Dashboard stock market vs google trends searchs\",\n",
    "    page_icon = \"wide\"\n",
    "\n",
    ")\n",
    "\n",
    "#DASHBOARD TITLE\n",
    "st.title(\"STOCK MARKET vs GOOGLE TRENDS DASHBOARD\")\n",
    "\n",
    "#TOP-LEVEL FILTERS\n",
    "\n",
    "company_filter = st.sidebar.selectbox( \"select the company\", pd.unique(df_yf[\"company_name\"]))\n",
    "\n",
    "#THIS CREATE A SINGLE ELEMENT CONTAINER\n",
    "placeholder = st.empty()\n",
    "\n",
    "#DATAFRAME FILTER, USE THE FILTER WE USED IN THE LINES BEFORE, SO CREATE A DATAFRAME ONLY WITH THIS DATA.\n",
    "\n",
    "df_yf = df_yf[df_yf[\"company_name\"] == company_filter]\n",
    "\n",
    "\n"
   ]
  },
  {
   "cell_type": "markdown",
   "metadata": {},
   "source": [
    "VAMOS A CREAR UNA APP DE STREAMLIT DESDE CER0"
   ]
  },
  {
   "cell_type": "code",
   "execution_count": 5,
   "metadata": {},
   "outputs": [],
   "source": [
    "import streamlit as st #WEB DEVELOPMENT\n",
    "import pandas as pd #READ CSV, DF MANIPULATION\n",
    "import numpy as np\n",
    "import time #TO SIMULATE A REAL TIME DATA\n",
    "import plotly.express as px #INTERACTIVE CHARTS"
   ]
  },
  {
   "cell_type": "code",
   "execution_count": 4,
   "metadata": {},
   "outputs": [
    {
     "ename": "SyntaxError",
     "evalue": "invalid syntax (2597528249.py, line 69)",
     "output_type": "error",
     "traceback": [
      "\u001b[0;36m  Input \u001b[0;32mIn [4]\u001b[0;36m\u001b[0m\n\u001b[0;31m    st.line_chart(chart_data)\u001b[0m\n\u001b[0m    ^\u001b[0m\n\u001b[0;31mSyntaxError\u001b[0m\u001b[0;31m:\u001b[0m invalid syntax\n"
     ]
    }
   ],
   "source": [
    "\n",
    "st.set_page_config(\n",
    "    page_title=\"STREAMLIT SAMPLE DASHBOARD\",\n",
    "    layout = \"wide\",\n",
    "    \n",
    "    \n",
    "    )\n",
    "\n",
    "\n",
    "\n",
    "#KPI 1\n",
    "\n",
    "#vamos a tener dos kpi, que vamos a tener en dos columnas y dentro de las cuales vamos a ver que metemos\n",
    "st.markdown(\"##KPI1 yahoo finance data\")\n",
    "st.beta_columns\n",
    "kpi1, kpi2  = st.beta_columns(2)\n",
    "\n",
    "with kpi1:\n",
    "    st.markdown(\"**First KPI**\")\n",
    "    number = 111\n",
    "    st.markdown(f\"<h1 style='text-align: center; color:red;'>{number1}<h1>\" , unsafe_allow_html = True)\n",
    "\n",
    "\n",
    "with kpi2:\n",
    "    st.markdown(\"**Second KPI**\")\n",
    "    number = 222\n",
    "    st.markdown(f\"<h1 style='text-align: center; color:red;'>{number1}<h1>\" , unsafe_allow_html = True)\n",
    "\n",
    "\n",
    "st.markdown(\"<hr/>\", unsafe_allow_html=True)  #lo que hara esta linea de codigo sera meternos una linea separadora entre el kpi1 y el kpi2\n",
    "\n",
    "\n",
    "\n",
    "st.markdown(\"##KPI Second row\")\n",
    "\n",
    "#KPI 1\n",
    "\n",
    "kpi01, kpi02, kpi03 = st.beta_columns(3)\n",
    "\n",
    "with kpi01:\n",
    "    st.markdown(\"**Another First KPI**\")\n",
    "    number = 111\n",
    "    st.markdown(f\"<h1 style='text-align: center; color:yellow;'>{number1}<h1>\" , unsafe_allow_html = True)\n",
    "\n",
    "\n",
    "with kpi02:\n",
    "    st.markdown(\"**Another second KPI**\")\n",
    "    number = 222\n",
    "    st.markdown(f\"<h1 style='text-align: center; color:yellow;'>{number1}<h1>\" , unsafe_allow_html = True)\n",
    "\n",
    "\n",
    "with kpi03:\n",
    "    st.markdown(\"**Another third KPI**\")\n",
    "    number = 333\n",
    "    st.markdown(f\"<h1 style='text-align: center; color:yellow;'>{number1}<h1>\" , unsafe_allow_html = True)\n",
    "\n",
    "\n",
    "st.markdown(\"<hr/>\", unsafe_allow_html=True)  #lo que hara esta linea de codigo sera meternos una linea separadora entre el kpi1, el kpi2 y el kpi3\n",
    "\n",
    "\n",
    "\n",
    "#YA TENEMOS EL DISEÑO BASICO, PERO LO QUE QUEREMOS QUEREMOS QUE TAMBIEN SE MUESTREN GRAFICOS, POR LO QUE VAMOS A HACER ESA PARTE A CONTINUACION.\n",
    "\n",
    "\n",
    "st.markdown(\"##Chart layout\")\n",
    "\n",
    "chart1, chart2 = st.beta_columns(2)\n",
    "with chart1: #AQUI LO QUE HAREMOS SERA MOSTRAR UN EJEMPLO DE COMO PODRIAMOS METER NUESTROS GRAFICOS EN LA APP DE STREAMLIT, OBVIAMENTE TENDREMOS QUE METER LOS DATOS DE NUESTROS GRAFICOS, PERO AQUI ES SOLO UN EJEMPLO.\n",
    "    chart_data = pd.DataFrame(np.random.randn(20, 2, columns= [\"a\",\"b\"])\n",
    "    st.line_chart(chart_data)\n",
    "\n",
    "\n",
    "\n",
    "with chart2: #AQUI LO QUE HAREMOS SERA MOSTRAR UN EJEMPLO DE COMO PODRIAMOS METER NUESTROS GRAFICOS EN LA APP DE STREAMLIT, OBVIAMENTE TENDREMOS QUE METER LOS DATOS DE NUESTROS GRAFICOS, PERO AQUI ES SOLO UN EJEMPLO.\n",
    "    chart_data = pd.DataFrame(np.random.randn(20, 2, columns= [\"a\",\"b\"])\n",
    "    st.line_chart(chart_data)\n"
   ]
  }
 ],
 "metadata": {
  "interpreter": {
   "hash": "26bc91a40bc92ff6c8560b3f1c17dd9f61254c5f0a410e98c3632788fc3095ac"
  },
  "kernelspec": {
   "display_name": "Python 3.9.12 64-bit ('FINAL_PROJECT': conda)",
   "language": "python",
   "name": "python3"
  },
  "language_info": {
   "codemirror_mode": {
    "name": "ipython",
    "version": 3
   },
   "file_extension": ".py",
   "mimetype": "text/x-python",
   "name": "python",
   "nbconvert_exporter": "python",
   "pygments_lexer": "ipython3",
   "version": "3.9.12"
  },
  "orig_nbformat": 4
 },
 "nbformat": 4,
 "nbformat_minor": 2
}
