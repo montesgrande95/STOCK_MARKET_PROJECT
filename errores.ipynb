{
 "cells": [
  {
   "cell_type": "code",
   "execution_count": 1,
   "metadata": {},
   "outputs": [],
   "source": [
    "import os\n"
   ]
  },
  {
   "cell_type": "code",
   "execution_count": 4,
   "metadata": {},
   "outputs": [
    {
     "data": {
      "text/plain": [
       "['NOMBRES_EMPRESAS.csv',\n",
       " '.DS_Store',\n",
       " 'data_tickers_semanal.csv',\n",
       " 'data_tickers.csv',\n",
       " 'tickers.xls',\n",
       " 'total_datos_proyecto.csv',\n",
       " 'Market Ticker.xls',\n",
       " 'total_datos_proyecto.xls',\n",
       " 'data_tickers_limpio.csv']"
      ]
     },
     "execution_count": 4,
     "metadata": {},
     "output_type": "execute_result"
    }
   ],
   "source": [
    "os.listdir(\"DATA\")"
   ]
  },
  {
   "cell_type": "code",
   "execution_count": null,
   "metadata": {},
   "outputs": [],
   "source": []
  }
 ],
 "metadata": {
  "interpreter": {
   "hash": "1e1a39f534b48ded80cce15c0ba392c4b835d178b79c1a3945a8fe294d443c93"
  },
  "kernelspec": {
   "display_name": "Python 3.7.11 64-bit ('IRONHACK': conda)",
   "language": "python",
   "name": "python3"
  },
  "language_info": {
   "codemirror_mode": {
    "name": "ipython",
    "version": 3
   },
   "file_extension": ".py",
   "mimetype": "text/x-python",
   "name": "python",
   "nbconvert_exporter": "python",
   "pygments_lexer": "ipython3",
   "version": "3.9.12"
  },
  "orig_nbformat": 4
 },
 "nbformat": 4,
 "nbformat_minor": 2
}
