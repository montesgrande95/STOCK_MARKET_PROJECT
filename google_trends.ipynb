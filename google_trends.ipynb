{
 "cells": [
  {
   "cell_type": "code",
   "execution_count": 1,
   "metadata": {},
   "outputs": [],
   "source": [
    "import pandas as pd\n",
    "import pandas_datareader.data as wb\n",
    "import yfinance as yf\n",
    "import numpy as np\n",
    "import matplotlib.pyplot as plt\n",
    "import plotly.express as px\n",
    "import plotly.graph_objects as go\n",
    "import streamlit as st\n",
    "from pytrends.request import TrendReq\n"
   ]
  },
  {
   "cell_type": "code",
   "execution_count": 5,
   "metadata": {},
   "outputs": [],
   "source": [
    "pytrends = TrendReq(hl='en-US', tz=360)\n",
    "\n",
    "pytrends.build_payload([\"Google\"], cat=0, timeframe='today 12-m') # NO PUEDO PONER MAS DE 3 MESES (90 dias) SI QUIERO TENER LOS DATOS DIARIOS.\n",
    "data = pytrends.interest_over_time() \n",
    "data = data.reset_index() \n"
   ]
  },
  {
   "cell_type": "code",
   "execution_count": 7,
   "metadata": {},
   "outputs": [],
   "source": [
    "data = data.tail(7)"
   ]
  },
  {
   "cell_type": "code",
   "execution_count": 8,
   "metadata": {},
   "outputs": [
    {
     "data": {
      "text/html": [
       "<div>\n",
       "<style scoped>\n",
       "    .dataframe tbody tr th:only-of-type {\n",
       "        vertical-align: middle;\n",
       "    }\n",
       "\n",
       "    .dataframe tbody tr th {\n",
       "        vertical-align: top;\n",
       "    }\n",
       "\n",
       "    .dataframe thead th {\n",
       "        text-align: right;\n",
       "    }\n",
       "</style>\n",
       "<table border=\"1\" class=\"dataframe\">\n",
       "  <thead>\n",
       "    <tr style=\"text-align: right;\">\n",
       "      <th></th>\n",
       "      <th>date</th>\n",
       "      <th>Google</th>\n",
       "      <th>isPartial</th>\n",
       "    </tr>\n",
       "  </thead>\n",
       "  <tbody>\n",
       "    <tr>\n",
       "      <th>45</th>\n",
       "      <td>2022-03-13</td>\n",
       "      <td>84</td>\n",
       "      <td>False</td>\n",
       "    </tr>\n",
       "    <tr>\n",
       "      <th>46</th>\n",
       "      <td>2022-03-20</td>\n",
       "      <td>87</td>\n",
       "      <td>False</td>\n",
       "    </tr>\n",
       "    <tr>\n",
       "      <th>47</th>\n",
       "      <td>2022-03-27</td>\n",
       "      <td>83</td>\n",
       "      <td>False</td>\n",
       "    </tr>\n",
       "    <tr>\n",
       "      <th>48</th>\n",
       "      <td>2022-04-03</td>\n",
       "      <td>80</td>\n",
       "      <td>False</td>\n",
       "    </tr>\n",
       "    <tr>\n",
       "      <th>49</th>\n",
       "      <td>2022-04-10</td>\n",
       "      <td>78</td>\n",
       "      <td>False</td>\n",
       "    </tr>\n",
       "    <tr>\n",
       "      <th>50</th>\n",
       "      <td>2022-04-17</td>\n",
       "      <td>81</td>\n",
       "      <td>False</td>\n",
       "    </tr>\n",
       "    <tr>\n",
       "      <th>51</th>\n",
       "      <td>2022-04-24</td>\n",
       "      <td>85</td>\n",
       "      <td>True</td>\n",
       "    </tr>\n",
       "  </tbody>\n",
       "</table>\n",
       "</div>"
      ],
      "text/plain": [
       "         date  Google  isPartial\n",
       "45 2022-03-13      84      False\n",
       "46 2022-03-20      87      False\n",
       "47 2022-03-27      83      False\n",
       "48 2022-04-03      80      False\n",
       "49 2022-04-10      78      False\n",
       "50 2022-04-17      81      False\n",
       "51 2022-04-24      85       True"
      ]
     },
     "execution_count": 8,
     "metadata": {},
     "output_type": "execute_result"
    }
   ],
   "source": [
    "data"
   ]
  },
  {
   "cell_type": "code",
   "execution_count": 12,
   "metadata": {},
   "outputs": [],
   "source": [
    "import streamlit.components.v1 as components\n",
    "import requests\n"
   ]
  },
  {
   "cell_type": "code",
   "execution_count": 15,
   "metadata": {},
   "outputs": [],
   "source": [
    "\n",
    "def extractTweet(url):\n",
    "\n",
    "    api = \"https://publish.twitter.com/oembed?url={}\".format(url)\n",
    "    response = requests.get(api)\n",
    "    res = response.json()\n",
    "    return res"
   ]
  },
  {
   "cell_type": "code",
   "execution_count": 16,
   "metadata": {},
   "outputs": [
    {
     "data": {
      "text/plain": [
       "{'url': 'https://twitter.com/GoogleES/status/1520015073837780995',\n",
       " 'author_name': 'Google España',\n",
       " 'author_url': 'https://twitter.com/GoogleES',\n",
       " 'html': '<blockquote class=\"twitter-tweet\"><p lang=\"es\" dir=\"ltr\">¿Adjuntar a un mail otro mail? Se puede con <a href=\"https://twitter.com/hashtag/gmail?src=hash&amp;ref_src=twsrc%5Etfw\">#gmail</a> 📩<br>1⃣Arrastra el mail que quieres adjuntar a tu mensaje<br>2⃣El mail se convierte en un archivo .eml<br>3⃣Todo hecho, ya puedes enviarlo <a href=\"https://t.co/iZrnu6E3nz\">https://t.co/iZrnu6E3nz</a> <a href=\"https://t.co/dS7QEg7uqa\">pic.twitter.com/dS7QEg7uqa</a></p>&mdash; Google España (@GoogleES) <a href=\"https://twitter.com/GoogleES/status/1520015073837780995?ref_src=twsrc%5Etfw\">April 29, 2022</a></blockquote>\\n<script async src=\"https://platform.twitter.com/widgets.js\" charset=\"utf-8\"></script>\\n',\n",
       " 'width': 550,\n",
       " 'height': None,\n",
       " 'type': 'rich',\n",
       " 'cache_age': '3153600000',\n",
       " 'provider_name': 'Twitter',\n",
       " 'provider_url': 'https://twitter.com',\n",
       " 'version': '1.0'}"
      ]
     },
     "execution_count": 16,
     "metadata": {},
     "output_type": "execute_result"
    }
   ],
   "source": [
    "extractTweet('https://twitter.com/GoogleES/status/1520015073837780995')"
   ]
  },
  {
   "cell_type": "code",
   "execution_count": null,
   "metadata": {},
   "outputs": [],
   "source": []
  }
 ],
 "metadata": {
  "interpreter": {
   "hash": "1e1a39f534b48ded80cce15c0ba392c4b835d178b79c1a3945a8fe294d443c93"
  },
  "kernelspec": {
   "display_name": "Python 3.7.11 64-bit ('IRONHACK': conda)",
   "language": "python",
   "name": "python3"
  },
  "language_info": {
   "codemirror_mode": {
    "name": "ipython",
    "version": 3
   },
   "file_extension": ".py",
   "mimetype": "text/x-python",
   "name": "python",
   "nbconvert_exporter": "python",
   "pygments_lexer": "ipython3",
   "version": "3.9.12"
  },
  "orig_nbformat": 4
 },
 "nbformat": 4,
 "nbformat_minor": 2
}
