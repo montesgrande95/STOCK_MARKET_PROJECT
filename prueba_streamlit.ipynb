import streamlit as st #WEB DEVELOPMENT
import pandas as pd #READ CSV, DF MANIPULATION
import numpy as np
import time #TO SIMULATE A REAL TIME DATA
import plotly.express as px #INTERACTIVE CHARTS



